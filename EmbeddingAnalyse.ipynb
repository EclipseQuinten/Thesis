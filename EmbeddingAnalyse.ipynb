{
  "nbformat": 4,
  "nbformat_minor": 0,
  "metadata": {
    "colab": {
      "name": "EmbeddingAnalyse.ipynb",
      "provenance": [],
      "collapsed_sections": [],
      "mount_file_id": "1SlzTtLqpxx3Cn-vtXIMhksORy3GN21w0",
      "authorship_tag": "ABX9TyOTZlCxJoPTu2Nr6TyjULZ9",
      "include_colab_link": true
    },
    "kernelspec": {
      "name": "python3",
      "display_name": "Python 3"
    },
    "language_info": {
      "name": "python"
    },
    "gpuClass": "standard",
    "widgets": {
      "application/vnd.jupyter.widget-state+json": {
        "e5050f15cc3e414c9cc934727ef28987": {
          "model_module": "@jupyter-widgets/controls",
          "model_name": "HBoxModel",
          "model_module_version": "1.5.0",
          "state": {
            "_dom_classes": [],
            "_model_module": "@jupyter-widgets/controls",
            "_model_module_version": "1.5.0",
            "_model_name": "HBoxModel",
            "_view_count": null,
            "_view_module": "@jupyter-widgets/controls",
            "_view_module_version": "1.5.0",
            "_view_name": "HBoxView",
            "box_style": "",
            "children": [
              "IPY_MODEL_cfe8ea8c79be4c76b8f8e15d499cff00",
              "IPY_MODEL_cc30b141a3b04dd1bd123647090b1536",
              "IPY_MODEL_c5216f15e8734183b895ee612a450561"
            ],
            "layout": "IPY_MODEL_877da6f836514310baa9077d294d33ba"
          }
        },
        "cfe8ea8c79be4c76b8f8e15d499cff00": {
          "model_module": "@jupyter-widgets/controls",
          "model_name": "HTMLModel",
          "model_module_version": "1.5.0",
          "state": {
            "_dom_classes": [],
            "_model_module": "@jupyter-widgets/controls",
            "_model_module_version": "1.5.0",
            "_model_name": "HTMLModel",
            "_view_count": null,
            "_view_module": "@jupyter-widgets/controls",
            "_view_module_version": "1.5.0",
            "_view_name": "HTMLView",
            "description": "",
            "description_tooltip": null,
            "layout": "IPY_MODEL_f1e51746718e4404972cdc5f5512abec",
            "placeholder": "​",
            "style": "IPY_MODEL_b629e4a851574f468d51fc8ebc4663c7",
            "value": "Downloading pytorch_model.bin: 100%"
          }
        },
        "cc30b141a3b04dd1bd123647090b1536": {
          "model_module": "@jupyter-widgets/controls",
          "model_name": "FloatProgressModel",
          "model_module_version": "1.5.0",
          "state": {
            "_dom_classes": [],
            "_model_module": "@jupyter-widgets/controls",
            "_model_module_version": "1.5.0",
            "_model_name": "FloatProgressModel",
            "_view_count": null,
            "_view_module": "@jupyter-widgets/controls",
            "_view_module_version": "1.5.0",
            "_view_name": "ProgressView",
            "bar_style": "success",
            "description": "",
            "description_tooltip": null,
            "layout": "IPY_MODEL_2f4af3363a8c42e598576b1a2f5984ad",
            "max": 672271273,
            "min": 0,
            "orientation": "horizontal",
            "style": "IPY_MODEL_da2606abfcd147678e1b990cd0fd4949",
            "value": 672271273
          }
        },
        "c5216f15e8734183b895ee612a450561": {
          "model_module": "@jupyter-widgets/controls",
          "model_name": "HTMLModel",
          "model_module_version": "1.5.0",
          "state": {
            "_dom_classes": [],
            "_model_module": "@jupyter-widgets/controls",
            "_model_module_version": "1.5.0",
            "_model_name": "HTMLModel",
            "_view_count": null,
            "_view_module": "@jupyter-widgets/controls",
            "_view_module_version": "1.5.0",
            "_view_name": "HTMLView",
            "description": "",
            "description_tooltip": null,
            "layout": "IPY_MODEL_95ff822497a34e99826ef538ef1f3c2c",
            "placeholder": "​",
            "style": "IPY_MODEL_98a08c26fcbb48a08b5e8331dc5d97fc",
            "value": " 641M/641M [00:27&lt;00:00, 51.9MB/s]"
          }
        },
        "877da6f836514310baa9077d294d33ba": {
          "model_module": "@jupyter-widgets/base",
          "model_name": "LayoutModel",
          "model_module_version": "1.2.0",
          "state": {
            "_model_module": "@jupyter-widgets/base",
            "_model_module_version": "1.2.0",
            "_model_name": "LayoutModel",
            "_view_count": null,
            "_view_module": "@jupyter-widgets/base",
            "_view_module_version": "1.2.0",
            "_view_name": "LayoutView",
            "align_content": null,
            "align_items": null,
            "align_self": null,
            "border": null,
            "bottom": null,
            "display": null,
            "flex": null,
            "flex_flow": null,
            "grid_area": null,
            "grid_auto_columns": null,
            "grid_auto_flow": null,
            "grid_auto_rows": null,
            "grid_column": null,
            "grid_gap": null,
            "grid_row": null,
            "grid_template_areas": null,
            "grid_template_columns": null,
            "grid_template_rows": null,
            "height": null,
            "justify_content": null,
            "justify_items": null,
            "left": null,
            "margin": null,
            "max_height": null,
            "max_width": null,
            "min_height": null,
            "min_width": null,
            "object_fit": null,
            "object_position": null,
            "order": null,
            "overflow": null,
            "overflow_x": null,
            "overflow_y": null,
            "padding": null,
            "right": null,
            "top": null,
            "visibility": null,
            "width": null
          }
        },
        "f1e51746718e4404972cdc5f5512abec": {
          "model_module": "@jupyter-widgets/base",
          "model_name": "LayoutModel",
          "model_module_version": "1.2.0",
          "state": {
            "_model_module": "@jupyter-widgets/base",
            "_model_module_version": "1.2.0",
            "_model_name": "LayoutModel",
            "_view_count": null,
            "_view_module": "@jupyter-widgets/base",
            "_view_module_version": "1.2.0",
            "_view_name": "LayoutView",
            "align_content": null,
            "align_items": null,
            "align_self": null,
            "border": null,
            "bottom": null,
            "display": null,
            "flex": null,
            "flex_flow": null,
            "grid_area": null,
            "grid_auto_columns": null,
            "grid_auto_flow": null,
            "grid_auto_rows": null,
            "grid_column": null,
            "grid_gap": null,
            "grid_row": null,
            "grid_template_areas": null,
            "grid_template_columns": null,
            "grid_template_rows": null,
            "height": null,
            "justify_content": null,
            "justify_items": null,
            "left": null,
            "margin": null,
            "max_height": null,
            "max_width": null,
            "min_height": null,
            "min_width": null,
            "object_fit": null,
            "object_position": null,
            "order": null,
            "overflow": null,
            "overflow_x": null,
            "overflow_y": null,
            "padding": null,
            "right": null,
            "top": null,
            "visibility": null,
            "width": null
          }
        },
        "b629e4a851574f468d51fc8ebc4663c7": {
          "model_module": "@jupyter-widgets/controls",
          "model_name": "DescriptionStyleModel",
          "model_module_version": "1.5.0",
          "state": {
            "_model_module": "@jupyter-widgets/controls",
            "_model_module_version": "1.5.0",
            "_model_name": "DescriptionStyleModel",
            "_view_count": null,
            "_view_module": "@jupyter-widgets/base",
            "_view_module_version": "1.2.0",
            "_view_name": "StyleView",
            "description_width": ""
          }
        },
        "2f4af3363a8c42e598576b1a2f5984ad": {
          "model_module": "@jupyter-widgets/base",
          "model_name": "LayoutModel",
          "model_module_version": "1.2.0",
          "state": {
            "_model_module": "@jupyter-widgets/base",
            "_model_module_version": "1.2.0",
            "_model_name": "LayoutModel",
            "_view_count": null,
            "_view_module": "@jupyter-widgets/base",
            "_view_module_version": "1.2.0",
            "_view_name": "LayoutView",
            "align_content": null,
            "align_items": null,
            "align_self": null,
            "border": null,
            "bottom": null,
            "display": null,
            "flex": null,
            "flex_flow": null,
            "grid_area": null,
            "grid_auto_columns": null,
            "grid_auto_flow": null,
            "grid_auto_rows": null,
            "grid_column": null,
            "grid_gap": null,
            "grid_row": null,
            "grid_template_areas": null,
            "grid_template_columns": null,
            "grid_template_rows": null,
            "height": null,
            "justify_content": null,
            "justify_items": null,
            "left": null,
            "margin": null,
            "max_height": null,
            "max_width": null,
            "min_height": null,
            "min_width": null,
            "object_fit": null,
            "object_position": null,
            "order": null,
            "overflow": null,
            "overflow_x": null,
            "overflow_y": null,
            "padding": null,
            "right": null,
            "top": null,
            "visibility": null,
            "width": null
          }
        },
        "da2606abfcd147678e1b990cd0fd4949": {
          "model_module": "@jupyter-widgets/controls",
          "model_name": "ProgressStyleModel",
          "model_module_version": "1.5.0",
          "state": {
            "_model_module": "@jupyter-widgets/controls",
            "_model_module_version": "1.5.0",
            "_model_name": "ProgressStyleModel",
            "_view_count": null,
            "_view_module": "@jupyter-widgets/base",
            "_view_module_version": "1.2.0",
            "_view_name": "StyleView",
            "bar_color": null,
            "description_width": ""
          }
        },
        "95ff822497a34e99826ef538ef1f3c2c": {
          "model_module": "@jupyter-widgets/base",
          "model_name": "LayoutModel",
          "model_module_version": "1.2.0",
          "state": {
            "_model_module": "@jupyter-widgets/base",
            "_model_module_version": "1.2.0",
            "_model_name": "LayoutModel",
            "_view_count": null,
            "_view_module": "@jupyter-widgets/base",
            "_view_module_version": "1.2.0",
            "_view_name": "LayoutView",
            "align_content": null,
            "align_items": null,
            "align_self": null,
            "border": null,
            "bottom": null,
            "display": null,
            "flex": null,
            "flex_flow": null,
            "grid_area": null,
            "grid_auto_columns": null,
            "grid_auto_flow": null,
            "grid_auto_rows": null,
            "grid_column": null,
            "grid_gap": null,
            "grid_row": null,
            "grid_template_areas": null,
            "grid_template_columns": null,
            "grid_template_rows": null,
            "height": null,
            "justify_content": null,
            "justify_items": null,
            "left": null,
            "margin": null,
            "max_height": null,
            "max_width": null,
            "min_height": null,
            "min_width": null,
            "object_fit": null,
            "object_position": null,
            "order": null,
            "overflow": null,
            "overflow_x": null,
            "overflow_y": null,
            "padding": null,
            "right": null,
            "top": null,
            "visibility": null,
            "width": null
          }
        },
        "98a08c26fcbb48a08b5e8331dc5d97fc": {
          "model_module": "@jupyter-widgets/controls",
          "model_name": "DescriptionStyleModel",
          "model_module_version": "1.5.0",
          "state": {
            "_model_module": "@jupyter-widgets/controls",
            "_model_module_version": "1.5.0",
            "_model_name": "DescriptionStyleModel",
            "_view_count": null,
            "_view_module": "@jupyter-widgets/base",
            "_view_module_version": "1.2.0",
            "_view_name": "StyleView",
            "description_width": ""
          }
        }
      }
    }
  },
  "cells": [
    {
      "cell_type": "markdown",
      "metadata": {
        "id": "view-in-github",
        "colab_type": "text"
      },
      "source": [
        "<a href=\"https://colab.research.google.com/github/EclipseQuinten/Thesis/blob/main/EmbeddingAnalyse.ipynb\" target=\"_parent\"><img src=\"https://colab.research.google.com/assets/colab-badge.svg\" alt=\"Open In Colab\"/></a>"
      ]
    },
    {
      "cell_type": "code",
      "execution_count": null,
      "metadata": {
        "colab": {
          "base_uri": "https://localhost:8080/"
        },
        "id": "0qtfd8836asS",
        "outputId": "1efae936-44be-4e7c-daf4-9c58db4896fb"
      },
      "outputs": [
        {
          "output_type": "stream",
          "name": "stdout",
          "text": [
            "Looking in indexes: https://pypi.org/simple, https://us-python.pkg.dev/colab-wheels/public/simple/\n",
            "Requirement already satisfied: transformers in /usr/local/lib/python3.7/dist-packages (4.21.1)\n",
            "Requirement already satisfied: regex!=2019.12.17 in /usr/local/lib/python3.7/dist-packages (from transformers) (2022.6.2)\n",
            "Requirement already satisfied: tokenizers!=0.11.3,<0.13,>=0.11.1 in /usr/local/lib/python3.7/dist-packages (from transformers) (0.12.1)\n",
            "Requirement already satisfied: tqdm>=4.27 in /usr/local/lib/python3.7/dist-packages (from transformers) (4.64.0)\n",
            "Requirement already satisfied: huggingface-hub<1.0,>=0.1.0 in /usr/local/lib/python3.7/dist-packages (from transformers) (0.8.1)\n",
            "Requirement already satisfied: packaging>=20.0 in /usr/local/lib/python3.7/dist-packages (from transformers) (21.3)\n",
            "Requirement already satisfied: filelock in /usr/local/lib/python3.7/dist-packages (from transformers) (3.7.1)\n",
            "Requirement already satisfied: importlib-metadata in /usr/local/lib/python3.7/dist-packages (from transformers) (4.12.0)\n",
            "Requirement already satisfied: pyyaml>=5.1 in /usr/local/lib/python3.7/dist-packages (from transformers) (6.0)\n",
            "Requirement already satisfied: requests in /usr/local/lib/python3.7/dist-packages (from transformers) (2.23.0)\n",
            "Requirement already satisfied: numpy>=1.17 in /usr/local/lib/python3.7/dist-packages (from transformers) (1.21.6)\n",
            "Requirement already satisfied: typing-extensions>=3.7.4.3 in /usr/local/lib/python3.7/dist-packages (from huggingface-hub<1.0,>=0.1.0->transformers) (4.1.1)\n",
            "Requirement already satisfied: pyparsing!=3.0.5,>=2.0.2 in /usr/local/lib/python3.7/dist-packages (from packaging>=20.0->transformers) (3.0.9)\n",
            "Requirement already satisfied: zipp>=0.5 in /usr/local/lib/python3.7/dist-packages (from importlib-metadata->transformers) (3.8.1)\n",
            "Requirement already satisfied: certifi>=2017.4.17 in /usr/local/lib/python3.7/dist-packages (from requests->transformers) (2022.6.15)\n",
            "Requirement already satisfied: chardet<4,>=3.0.2 in /usr/local/lib/python3.7/dist-packages (from requests->transformers) (3.0.4)\n",
            "Requirement already satisfied: idna<3,>=2.5 in /usr/local/lib/python3.7/dist-packages (from requests->transformers) (2.10)\n",
            "Requirement already satisfied: urllib3!=1.25.0,!=1.25.1,<1.26,>=1.21.1 in /usr/local/lib/python3.7/dist-packages (from requests->transformers) (1.24.3)\n"
          ]
        }
      ],
      "source": [
        "pip install transformers"
      ]
    },
    {
      "cell_type": "code",
      "source": [
        "from transformers import RobertaTokenizer, RobertaModel\n",
        "from transformers import AutoTokenizer, AutoModelForMaskedLM, AutoModelForSequenceClassification, AutoModel\n",
        "from collections import defaultdict\n",
        "import torch\n",
        "%matplotlib inline\n",
        "import numpy as np\n",
        "import matplotlib.pyplot as plt\n",
        "import seaborn as sns; sns.set()\n",
        "import pandas\n",
        "import sys\n",
        "import pandas as pd\n",
        "import numpy as np\n",
        "from sklearn.model_selection import train_test_split\n",
        "import sklearn.metrics\n",
        "import torch\n",
        "import seaborn as sns\n",
        "import transformers\n",
        "import json\n",
        "from tqdm import tqdm\n",
        "from torch.utils.data import Dataset, DataLoader"
      ],
      "metadata": {
        "id": "HscC1pHUof9d"
      },
      "execution_count": null,
      "outputs": []
    },
    {
      "cell_type": "code",
      "source": [
        "# BERT model with addition.\n",
        "class RobertaClass(torch.nn.Module):\n",
        "    def __init__(self):\n",
        "        super(RobertaClass, self).__init__()\n",
        "        # Uncomment depending on which language model you want as base.\n",
        "        #self.l1 = RobertaModel.from_pretrained(\"pdelobelle/robbert-v2-dutch-base\")\n",
        "        self.l1 = AutoModel.from_pretrained(\"bert-base-multilingual-uncased\")\n",
        "        self.contextLayer = ContextLayer(768)\n",
        "        self.alpha = 0.5\n",
        "        self.beta = 0.5\n",
        "\n",
        "    # If RobBERT as base: comment out token_type_ids\n",
        "    # If BERT: uncomment token_type_ids\n",
        "    def forward(self, input_ids, attention_mask, token_type_ids\n",
        "                ):\n",
        "        output_1 = self.l1(input_ids=input_ids, attention_mask=attention_mask, token_type_ids = token_type_ids\n",
        "                           )\n",
        "        hidden_state = output_1.last_hidden_state\n",
        "        #pooler = self.lin(pooler)\n",
        "        output = [0 for i in range(len(hidden_state))] \n",
        "        x = hidden_state\n",
        "        for i in range(0, len(hidden_state)):\n",
        "          output[i] = self.alpha * hidden_state[i] + self.beta * self.contextLayer(x)[i]\n",
        "        return output"
      ],
      "metadata": {
        "colab": {
          "base_uri": "https://localhost:8080/",
          "height": 235
        },
        "id": "bX1NqC9i9Qar",
        "outputId": "fdc859b5-879d-4fe8-c01d-f895779ac65a"
      },
      "execution_count": 1,
      "outputs": [
        {
          "output_type": "error",
          "ename": "NameError",
          "evalue": "ignored",
          "traceback": [
            "\u001b[0;31m---------------------------------------------------------------------------\u001b[0m",
            "\u001b[0;31mNameError\u001b[0m                                 Traceback (most recent call last)",
            "\u001b[0;32m<ipython-input-1-42e2de35d300>\u001b[0m in \u001b[0;36m<module>\u001b[0;34m\u001b[0m\n\u001b[1;32m      1\u001b[0m \u001b[0;31m# BERT model with addition.\u001b[0m\u001b[0;34m\u001b[0m\u001b[0;34m\u001b[0m\u001b[0;34m\u001b[0m\u001b[0m\n\u001b[0;32m----> 2\u001b[0;31m \u001b[0;32mclass\u001b[0m \u001b[0mRobertaClass\u001b[0m\u001b[0;34m(\u001b[0m\u001b[0mtorch\u001b[0m\u001b[0;34m.\u001b[0m\u001b[0mnn\u001b[0m\u001b[0;34m.\u001b[0m\u001b[0mModule\u001b[0m\u001b[0;34m)\u001b[0m\u001b[0;34m:\u001b[0m\u001b[0;34m\u001b[0m\u001b[0;34m\u001b[0m\u001b[0m\n\u001b[0m\u001b[1;32m      3\u001b[0m     \u001b[0;32mdef\u001b[0m \u001b[0m__init__\u001b[0m\u001b[0;34m(\u001b[0m\u001b[0mself\u001b[0m\u001b[0;34m)\u001b[0m\u001b[0;34m:\u001b[0m\u001b[0;34m\u001b[0m\u001b[0;34m\u001b[0m\u001b[0m\n\u001b[1;32m      4\u001b[0m         \u001b[0msuper\u001b[0m\u001b[0;34m(\u001b[0m\u001b[0mRobertaClass\u001b[0m\u001b[0;34m,\u001b[0m \u001b[0mself\u001b[0m\u001b[0;34m)\u001b[0m\u001b[0;34m.\u001b[0m\u001b[0m__init__\u001b[0m\u001b[0;34m(\u001b[0m\u001b[0;34m)\u001b[0m\u001b[0;34m\u001b[0m\u001b[0;34m\u001b[0m\u001b[0m\n\u001b[1;32m      5\u001b[0m         \u001b[0;31m# Uncomment depending on which language model you want as base.\u001b[0m\u001b[0;34m\u001b[0m\u001b[0;34m\u001b[0m\u001b[0;34m\u001b[0m\u001b[0m\n",
            "\u001b[0;31mNameError\u001b[0m: name 'torch' is not defined"
          ]
        }
      ]
    },
    {
      "cell_type": "code",
      "source": [
        "from transformers import RobertaTokenizer, RobertaModel\n",
        "from transformers import AutoTokenizer, AutoModelForMaskedLM, AutoModelForSequenceClassification, AutoModel\n",
        "from collections import defaultdict\n",
        "import torch\n",
        "%matplotlib inline\n",
        "import numpy as np\n",
        "import matplotlib.pyplot as plt\n",
        "import seaborn as sns; sns.set()\n",
        "import pandas\n",
        "import sys\n",
        "\n",
        "# Uncomment the right tokenizer or model. If the debiased model is used, only uncomment the correct tokenizer and uncomment model = RobertaClass().\n",
        "#tokenizer = RobertaTokenizer.from_pretrained('pdelobelle/robbert-v2-dutch-base')\n",
        "tokenizer = AutoTokenizer.from_pretrained(\"bert-base-multilingual-uncased\")\n",
        "#model = RobertaModel.from_pretrained('pdelobelle/robbert-v2-dutch-base', return_dict=True)\n",
        "model = AutoModel.from_pretrained(\"bert-base-multilingual-uncased\")\n",
        "#model = RobertaClass()"
      ],
      "metadata": {
        "id": "_K-EdAQl6bHF",
        "colab": {
          "base_uri": "https://localhost:8080/",
          "height": 121,
          "referenced_widgets": [
            "e5050f15cc3e414c9cc934727ef28987",
            "cfe8ea8c79be4c76b8f8e15d499cff00",
            "cc30b141a3b04dd1bd123647090b1536",
            "c5216f15e8734183b895ee612a450561",
            "877da6f836514310baa9077d294d33ba",
            "f1e51746718e4404972cdc5f5512abec",
            "b629e4a851574f468d51fc8ebc4663c7",
            "2f4af3363a8c42e598576b1a2f5984ad",
            "da2606abfcd147678e1b990cd0fd4949",
            "95ff822497a34e99826ef538ef1f3c2c",
            "98a08c26fcbb48a08b5e8331dc5d97fc"
          ]
        },
        "outputId": "c3211167-0996-48bc-cd00-f1070fae08d7"
      },
      "execution_count": null,
      "outputs": [
        {
          "output_type": "display_data",
          "data": {
            "text/plain": [
              "Downloading pytorch_model.bin:   0%|          | 0.00/641M [00:00<?, ?B/s]"
            ],
            "application/vnd.jupyter.widget-view+json": {
              "version_major": 2,
              "version_minor": 0,
              "model_id": "e5050f15cc3e414c9cc934727ef28987"
            }
          },
          "metadata": {}
        },
        {
          "output_type": "stream",
          "name": "stderr",
          "text": [
            "Some weights of the model checkpoint at bert-base-multilingual-uncased were not used when initializing BertModel: ['cls.seq_relationship.bias', 'cls.predictions.transform.dense.weight', 'cls.predictions.transform.LayerNorm.weight', 'cls.predictions.transform.LayerNorm.bias', 'cls.predictions.bias', 'cls.predictions.transform.dense.bias', 'cls.predictions.decoder.weight', 'cls.seq_relationship.weight']\n",
            "- This IS expected if you are initializing BertModel from the checkpoint of a model trained on another task or with another architecture (e.g. initializing a BertForSequenceClassification model from a BertForPreTraining model).\n",
            "- This IS NOT expected if you are initializing BertModel from the checkpoint of a model that you expect to be exactly identical (initializing a BertForSequenceClassification model from a BertForSequenceClassification model).\n"
          ]
        }
      ]
    },
    {
      "cell_type": "code",
      "source": [
        "from torch import cuda\n",
        "torch.cuda.empty_cache()\n",
        "device = 'cuda' if cuda.is_available() else 'cpu'"
      ],
      "metadata": {
        "id": "QGGUJE74oDNA"
      },
      "execution_count": null,
      "outputs": []
    },
    {
      "cell_type": "code",
      "source": [
        "# Given list of lists, flatten.\n",
        "def flattenList(givenList) : \n",
        "  result = []\n",
        "  for item in givenList:\n",
        "    result += item\n",
        "  \n",
        "  return result"
      ],
      "metadata": {
        "id": "kUN10rAhdShi"
      },
      "execution_count": null,
      "outputs": []
    },
    {
      "cell_type": "code",
      "source": [
        "#The additional context layer.\n",
        "class ContextLayer(torch.nn.Module):\n",
        "  def __init__(self, shape):\n",
        "    super().__init__()\n",
        "    self.n_in, self.n_out = shape, shape\n",
        "\n",
        "    self.weights = torch.nn.Parameter(torch.zeros((shape, shape),\n",
        "      dtype=torch.float32))\n",
        "    self.bias = torch.nn.Parameter(torch.tensor(shape,\n",
        "      dtype=torch.float32))\n",
        "    self.mask = torch.diag(torch.ones(shape))\n",
        "\n",
        "    torch.nn.init.normal_(self.weights, mean=0.0, std=0.01)\n",
        "    torch.nn.init.normal_(self.bias, mean=0.0, std=0.01)\n",
        "\n",
        "  # Linear\n",
        "  def forward(self, x):\n",
        "    w_times_x= torch.mm(x[0], self.weights.t() - self.weights.t() * self.mask)\n",
        "    return torch.add(w_times_x, self.bias)  # w times x + b"
      ],
      "metadata": {
        "id": "LTwAdehBaALc"
      },
      "execution_count": null,
      "outputs": []
    },
    {
      "cell_type": "code",
      "source": [
        "# Match the tokenized to the untokenized sentence for RobBERT.\n",
        "def _match_tokenized_to_untokenized_robBert(tokenized_sent, untokenized_sent):\n",
        "        \"\"\"Aligns tokenized and untokenized sentence given words \"Ġ\" prefixed\n",
        "        Assuming that each new word starts with the Ġ token.\n",
        "        Args:\n",
        "            tokenized_sent: a list of strings describing a subword-tokenized sentence\n",
        "            untokenized_sent: a list of strings describing a sentence, no subword tok.\n",
        "        Returns: A dictionary of type {int: list(int)} mapping each untokenized sentence index\n",
        "                 to a list of subword-tokenized sentence indices\n",
        "        \"\"\"\n",
        "        mapping = defaultdict(list)\n",
        "        untokenized_sent_index = 0\n",
        "        tokenized_sent_index = 0\n",
        "        \n",
        "        # while we haven't reached the last token in untokenized or tokenized\n",
        "        while untokenized_sent_index < len(untokenized_sent) and tokenized_sent_index < len(tokenized_sent):\n",
        "            # find all the sub tokens of the current word.\n",
        "            # So each untokenized index can have a list of multiple tokenized indices\n",
        "            while (tokenized_sent_index + 1 < len(tokenized_sent) and\n",
        "                   not tokenized_sent[tokenized_sent_index + 1].startswith('Ġ') and\n",
        "                   not tokenized_sent[tokenized_sent_index + 1].startswith('.') and\n",
        "                   not tokenized_sent[tokenized_sent_index + 1].startswith(',') and\n",
        "                   not tokenized_sent[tokenized_sent_index + 1].startswith(':') and\n",
        "                   not tokenized_sent[tokenized_sent_index + 1].startswith('?') and\n",
        "                   not tokenized_sent[tokenized_sent_index + 1].startswith('!') and\n",
        "                   not tokenized_sent[tokenized_sent_index + 1].startswith(';')):\n",
        "                mapping[untokenized_sent_index].append(tokenized_sent_index)\n",
        "                tokenized_sent_index += 1\n",
        "            mapping[untokenized_sent_index].append(tokenized_sent_index)\n",
        "            untokenized_sent_index += 1\n",
        "            tokenized_sent_index += 1\n",
        "        return mapping"
      ],
      "metadata": {
        "id": "TIOthrQTv7i6"
      },
      "execution_count": null,
      "outputs": []
    },
    {
      "cell_type": "code",
      "source": [
        "# Same function, for BERT model. Different starting symbol.\n",
        "def _match_tokenized_to_untokenized_bert(tokenized_sent, untokenized_sent):\n",
        "        \"\"\"Aligns tokenized and untokenized sentence given words \"##\" prefixed\n",
        "        Assuming that each new word starts without the ## token.\n",
        "        Args:\n",
        "            tokenized_sent: a list of strings describing a subword-tokenized sentence\n",
        "            untokenized_sent: a list of strings describing a sentence, no subword tok.\n",
        "        Returns: A dictionary of type {int: list(int)} mapping each untokenized sentence index\n",
        "                 to a list of subword-tokenized sentence indices\n",
        "        \"\"\"\n",
        "        mapping = defaultdict(list)\n",
        "        untokenized_sent_index = 0\n",
        "        tokenized_sent_index = 0\n",
        "        \n",
        "        # while we haven't reached the last token in untokenized or tokenized\n",
        "        while untokenized_sent_index < len(untokenized_sent) and tokenized_sent_index < len(tokenized_sent):\n",
        "            # find all the sub tokens of the current word.\n",
        "            # So each untokenized index can have a list of multiple tokenized indices\n",
        "            while (tokenized_sent_index + 1 < len(tokenized_sent) and\n",
        "                   tokenized_sent[tokenized_sent_index + 1].startswith('##')):\n",
        "                mapping[untokenized_sent_index].append(tokenized_sent_index)\n",
        "                tokenized_sent_index += 1\n",
        "            mapping[untokenized_sent_index].append(tokenized_sent_index)\n",
        "            untokenized_sent_index += 1\n",
        "            tokenized_sent_index += 1\n",
        "        return mapping"
      ],
      "metadata": {
        "id": "wJGsTF8o1CFN"
      },
      "execution_count": null,
      "outputs": []
    },
    {
      "cell_type": "code",
      "source": [
        "def retrieveEmbeddings(tokenizer, model, inputs):\n",
        "  \"\"\"Returns the last hidden state of the given model, given the tokenizer and inputs.\"\"\"\n",
        "  wordEmbedIn=[]\n",
        "  wordEmbedIn = [0 for i in range(len(inputs))] \n",
        "  wordEmbedOut=[]\n",
        "  wordEmbedOut = [0 for i in range(len(inputs))] \n",
        "  last_hidden_state=[]\n",
        "  last_hidden_state = [0 for i in range(len(inputs))] \n",
        "\n",
        "\n",
        "  for i in range(len(inputs)):\n",
        "    tokenized_sequence = tokenizer.tokenize(inputs[i])\n",
        "    wordEmbedIn[i] = tokenizer(inputs[i], return_tensors = \"pt\")\n",
        "    wordEmbedOut[i] = model(**wordEmbedIn[i])\n",
        "    last_hidden_state[i] = wordEmbedOut[i].last_hidden_state\n",
        "    # uncomment last_hidden_state[i] = wordEmbedOut[i] for context layer model and comment last_hidden_state[i] = wordEmbedOut[i].last_hidden_state\n",
        "    #last_hidden_state[i] = wordEmbedOut[i]\n",
        "  return last_hidden_state\n"
      ],
      "metadata": {
        "id": "DrUeWQmluq4r"
      },
      "execution_count": null,
      "outputs": []
    },
    {
      "cell_type": "code",
      "source": [
        "# Return the embeddings according to the mapping. If a word is multiple subtokens, average of those subtokens is embedding for word.\n",
        "def getEmbeddingsForIndex(embeddings, mapping):\n",
        "  # uncomment embed = embeddings for context layer model and comment embed = embeddings.detach().numpy().squeeze()\n",
        "  embed = embeddings.detach().numpy().squeeze()\n",
        "  #embed = embeddings\n",
        "  results = []\n",
        "  results = [0 for i in range(lengthOfMapping(mapping))] \n",
        "  count = 0\n",
        "  for key in range(lengthOfMapping(mapping)):\n",
        "    value = mapping[key]\n",
        "    for i in value:\n",
        "      count += 1\n",
        "      results[key] += embed[i + 1]\n",
        "    results[key] = results[key]/len(value)\n",
        "    count = 0\n",
        "  return results  "
      ],
      "metadata": {
        "id": "NJP2qPyeXvmd"
      },
      "execution_count": null,
      "outputs": []
    },
    {
      "cell_type": "code",
      "source": [
        "# Convert to dataframe.\n",
        "def convertEmbeddingsToDataFrame(embeddings):\n",
        "  i_np=[]\n",
        "  i_np = [0 for i in range(len(embeddings))] \n",
        "  dfTotal = pandas.DataFrame()\n",
        "\n",
        "  for i in range(len(embeddings)):\n",
        "    i_np[i] = embeddings[i]\n",
        "      \n",
        "    df = pandas.DataFrame(columns=range(0, 767)) #convert to a dataframe\n",
        "    df.loc[0] = i_np[i]\n",
        "    dfTotal = dfTotal.append(df, ignore_index = True)\n",
        "    \n",
        "  return dfTotal"
      ],
      "metadata": {
        "id": "6H46FD5JNQE2"
      },
      "execution_count": null,
      "outputs": []
    },
    {
      "cell_type": "code",
      "source": [
        "# Return length of mapping.\n",
        "def lengthOfMapping(mapping):\n",
        "  \"\"\"Assumes the first key of the mapping is 0 and the last is n, every other key is between 0 and n\"\"\"\n",
        "  i = 0\n",
        "  while (len(mapping[i]) != 0):\n",
        "    i += 1\n",
        "  return i"
      ],
      "metadata": {
        "id": "IJnjX4rSiYvn"
      },
      "execution_count": null,
      "outputs": []
    },
    {
      "cell_type": "code",
      "source": [
        "# Return the position of a word in the sentence.\n",
        "def findPositionWordInSentence(word, sentence):\n",
        "  words = sentence.split(' ')\n",
        "  position = words.index(word)\n",
        "  return position"
      ],
      "metadata": {
        "id": "NZAPTB8cnAf6"
      },
      "execution_count": null,
      "outputs": []
    },
    {
      "cell_type": "code",
      "source": [
        "\"Amount of words, including punctuation.\"\n",
        "def removePunctuation(sentence):\n",
        "  punc = '''!()-[]{};:'\"\\,<>./?@#$%^&*_~'''\n",
        " \n",
        "  # Removing punctuations in string\n",
        "  # Using loop + punctuation string\n",
        "  for ele in sentence:\n",
        "    if ele in punc:\n",
        "      sentence = sentence.replace(ele, \"\")\n",
        "  return sentence"
      ],
      "metadata": {
        "id": "HBt1O31SoyKN"
      },
      "execution_count": null,
      "outputs": []
    },
    {
      "cell_type": "code",
      "source": [
        "# Main script, retrieve embeddings for the given input excel file. This one consists of sentences and words in those sentences of which we want the embeddings. Robbert or BERT function depending on which model chosen.\n",
        "from google.colab import drive\n",
        "from scipy import spatial\n",
        "drive.mount('/content/drive')\n",
        "\n",
        "dfinput = pandas.read_excel('/content/drive/My Drive/Thesis/schoon.xlsx')\n",
        "inputs = dfinput['Zin'].tolist()\n",
        "words = dfinput['Woord'].tolist()\n",
        "\n",
        "last_hidden_state = retrieveEmbeddings(tokenizer, model, inputs)\n",
        "last_hidden_state = flattenList(last_hidden_state)\n",
        "\n",
        "tokenized_sequence = []\n",
        "tokenized_sequence = [0 for i in range(len(inputs))]\n",
        "mapping=[]\n",
        "mapping = [0 for i in range(len(inputs))] \n",
        "pos = []\n",
        "pos = [0 for i in range(len(inputs))]\n",
        "embeddings = []\n",
        "embeddings = [0 for i in range(len(last_hidden_state))]\n",
        "dfTotal = pandas.DataFrame(columns=range(0, 768))\n",
        "\n",
        "for i in range(len(inputs)):\n",
        "  positionInput = removePunctuation(inputs[i])\n",
        "  pos[i] = findPositionWordInSentence(words[i], positionInput)\n",
        "for i in range(len(inputs)):\n",
        "  tokenized_sequence[i] = tokenizer.tokenize(inputs[i])\n",
        "  mapping[i] = _match_tokenized_to_untokenized_bert(tokenized_sequence[i], inputs[i])\n",
        "\n",
        "for i in range(len(last_hidden_state)):\n",
        "  embeddings[i] = getEmbeddingsForIndex(last_hidden_state[i], mapping[i])\n",
        "  currentPos = pos[i]\n",
        "  dfTotal.loc[len(dfTotal)] = embeddings[i][currentPos].tolist()\n",
        "  # uncomment  #dfTotal.loc[len(dfTotal)] = embeddings[i][currentPos].detach().numpy() for context layer model and comment dfTotal.loc[len(dfTotal)] = embeddings[i][currentPos].tolist()\n",
        "  #dfTotal.loc[len(dfTotal)] = embeddings[i][currentPos].detach().numpy()"
      ],
      "metadata": {
        "id": "NM6UBQHdggcH",
        "colab": {
          "base_uri": "https://localhost:8080/"
        },
        "outputId": "7993b620-2171-4079-e0ef-87d8cf07859f"
      },
      "execution_count": null,
      "outputs": [
        {
          "output_type": "stream",
          "name": "stdout",
          "text": [
            "Drive already mounted at /content/drive; to attempt to forcibly remount, call drive.mount(\"/content/drive\", force_remount=True).\n",
            "['dit', 'is', 'scho', '##on', '.']\n",
            "['de', 'kamer', 'is', 'proper', '.']\n",
            "['de', 'kamer', 'rui', '##kt', 'fri', '##s', '.']\n",
            "['de', 'kamer', 'is', 'ge', '##kui', '##st', '.']\n",
            "['de', 'kamer', 'is', 'ge', '##po', '##ets', '##t', '.']\n",
            "['zij', 'is', 'zeer', 'mo', '##oi', '.']\n",
            "['zij', 'is', 'zeer', 'aan', '##tre', '##kkel', '##ijk', '.']\n",
            "['zij', 'is', 'zeer', 'oog', '##ver', '##bli', '##nden', '##d', '.']\n",
            "['hij', 'vind', 'haar', 'echt', 'kn', '##ap', '.']\n",
            "['de', 'kleur', 'is', 'groen', '.']\n",
            "['de', 'kleur', 'is', 'blau', '##w', '.']\n",
            "['de', 'kleur', 'is', 'geel', '.']\n",
            "['de', 'kleur', 'is', 'rood', '.']\n",
            "['de', 'appel', 'is', 'groen', '.']\n",
            "['de', 'bana', '##an', 'is', 'geel', '.']\n",
            "['de', 'citroen', 'is', 'geel']\n",
            "['de', 'peer', 'is', 'groen', '.']\n",
            "['de', 'dokter', 'werkt', 'in', 'het', 'zie', '##ken', '##huis', '.']\n",
            "['de', 'ver', '##ple', '##ger', 'werkt', 'in', 'het', 'zie', '##ken', '##huis', '.']\n",
            "['de', 'ver', '##ple', '##eg', '##ster', 'werkt', 'in', 'het', 'zie', '##ken', '##huis']\n",
            "['de', 'chi', '##rur', '##g', 'werkt', 'in', 'het', 'zie', '##ken', '##huis', '.']\n"
          ]
        }
      ]
    },
    {
      "cell_type": "code",
      "source": [
        "import numpy as np\n",
        "import pandas as pd\n",
        "import seaborn as sns\n",
        "import matplotlib.pyplot as plt\n",
        "from numpy.linalg import norm\n",
        "from sklearn.metrics.pairwise import cosine_similarity\n",
        "from scipy import spatial"
      ],
      "metadata": {
        "id": "qR_wDCgs62-d"
      },
      "execution_count": null,
      "outputs": []
    },
    {
      "cell_type": "code",
      "source": [
        "# Calculates cosine similarity matrix for given dataframe.\n",
        "def calculateCosineMatrix(df):\n",
        "  n = df.shape[0]\n",
        "  mat = [[0 for _ in range(n)] for _ in range(n)]\n",
        "  for i in range(0, n):\n",
        "    for j in range(i, n):\n",
        "      mat[i][j] = 1 - spatial.distance.cosine(df.iloc[i].tolist(), df.iloc[j].tolist())\n",
        "      mat[j][i] = 1 - spatial.distance.cosine(df.iloc[i].tolist(), df.iloc[j].tolist())\n",
        "\n",
        "  return mat"
      ],
      "metadata": {
        "id": "2LEAvjbX8Ajt"
      },
      "execution_count": null,
      "outputs": []
    },
    {
      "cell_type": "code",
      "source": [
        "# Calculates heatmap for given matrix.\n",
        "sns.set(font_scale=1.4)\n",
        "fig, ax = plt.subplots(figsize=(10,10))  \n",
        "mat = calculateCosineMatrix(dfTotal.head(10))\n",
        "dfMat = pd.DataFrame(mat, columns = dfinput.head(10)['Woord'].tolist())\n",
        "cbar_kws = {\"orientation\":\"horizontal\", \n",
        "            \"drawedges\":True,\n",
        "           }\n",
        "sns.heatmap(dfMat, annot=True, linewidths=.5, ax = ax, cmap=\"YlGnBu\", yticklabels = dfinput.head(10)['Woord'].tolist(), cbar_kws = cbar_kws, cbar=False)"
      ],
      "metadata": {
        "id": "g_odN6NM64EU",
        "colab": {
          "base_uri": "https://localhost:8080/",
          "height": 706
        },
        "outputId": "a7e71854-f76c-4066-9d5b-fb296170a940"
      },
      "execution_count": null,
      "outputs": [
        {
          "output_type": "execute_result",
          "data": {
            "text/plain": [
              "<matplotlib.axes._subplots.AxesSubplot at 0x7f0653fde250>"
            ]
          },
          "metadata": {},
          "execution_count": 20
        },
        {
          "output_type": "display_data",
          "data": {
            "text/plain": [
              "<Figure size 720x720 with 1 Axes>"
            ],
            "image/png": "[encoded data removed]"
          },
          "metadata": {}
        }
      ]
    },
    {
      "cell_type": "code",
      "source": [
        "import numpy as np\n",
        "from sympy.utilities.iterables import multiset_permutations\n",
        "\n",
        "# Returns unit vector.\n",
        "def unit_vector(vec):\n",
        "    return vec / np.linalg.norm(vec)\n",
        "\n",
        "# Returns cosine similarity between two vectors.\n",
        "def cos_sim(v1, v2):\n",
        "    return 1 - spatial.distance.cosine(v1, v2)\n",
        "\n",
        "# Returns SAME association between target words and attribute set.\n",
        "def SAME_association(W, A):\n",
        "    sum = 0\n",
        "    for i in A:\n",
        "      x = unit_vector(i)\n",
        "      sum = sum + x\n",
        "    A = A/np.linalg.norm(A)\n",
        "    frac = 1/np.linalg.norm(A)\n",
        "    return cos_sim(W, sum) * frac\n",
        "\n",
        "# Normalizes the vectors of given attribute set.\n",
        "def SAME_normalized_vectors(A):\n",
        "    sum = 0\n",
        "    for i in A:\n",
        "      x = unit_vector(i)\n",
        "      sum = sum + x\n",
        "    A = A/np.linalg.norm(A)\n",
        "    frac = 1/np.linalg.norm(A)\n",
        "    return sum * frac\n",
        "\n",
        "# Returns SAME association between target words and attribute sets A1 & A2.\n",
        "def SAME_differential_association(W, A1, A2):\n",
        "    return cos_sim(W, SAME_normalized_vectors(A1) - SAME_normalized_vectors(A2))"
      ],
      "metadata": {
        "id": "8d7e6FeKSxu9"
      },
      "execution_count": null,
      "outputs": []
    },
    {
      "cell_type": "code",
      "source": [
        "# Used to retrieve SAME scores.\n",
        "\n",
        "npTest = dfTotal.to_numpy()\n",
        "#print(npTest)\n",
        "#SAME_association(npTest[1], npTest[3])\n",
        "print(SAME_differential_association(npTest[0], npTest[2:6], npTest[6:10]))\n",
        "print(SAME_differential_association(npTest[0], npTest[2:6], npTest[10:14]))\n",
        "print(SAME_differential_association(npTest[0], npTest[2:6], npTest[14:18]))\n",
        "print(SAME_differential_association(npTest[1], npTest[2:6], npTest[6:10]))\n",
        "print(SAME_differential_association(npTest[1], npTest[2:6], npTest[10:14]))\n",
        "print(SAME_differential_association(npTest[1], npTest[2:6], npTest[14:18]))\n",
        "print(SAME_association(npTest[0], npTest[2:6]))\n",
        "print(SAME_association(npTest[1], npTest[2:6]))"
      ],
      "metadata": {
        "id": "IC11tO4m9bM5",
        "colab": {
          "base_uri": "https://localhost:8080/"
        },
        "outputId": "4979fb5d-f4c7-47fe-e982-0d521d0d57fc"
      },
      "execution_count": null,
      "outputs": [
        {
          "output_type": "stream",
          "name": "stdout",
          "text": [
            "0.21624556343643386\n",
            "0.19173862418345855\n",
            "0.27555121745325173\n",
            "-0.22995658653258433\n",
            "0.05237028777151953\n",
            "0.1463989203461583\n",
            "0.676992849799442\n",
            "0.5583769355413096\n"
          ]
        }
      ]
    }
  ]
}